{
 "cells": [
  {
   "cell_type": "markdown",
   "id": "4079719ad9ebdee6",
   "metadata": {
    "collapsed": false
   },
   "source": [
    "## Import de dependências"
   ]
  },
  {
   "cell_type": "code",
   "execution_count": 2,
   "id": "initial_id",
   "metadata": {
    "ExecuteTime": {
     "end_time": "2023-08-29T00:46:40.133786300Z",
     "start_time": "2023-08-29T00:46:40.115015900Z"
    },
    "collapsed": false
   },
   "outputs": [],
   "source": [
    "import requests\n",
    "import pandas as pd"
   ]
  },
  {
   "cell_type": "markdown",
   "id": "92f19bf632ea5c46",
   "metadata": {
    "collapsed": false
   },
   "source": [
    "## Declaração de variaveis"
   ]
  },
  {
   "cell_type": "code",
   "execution_count": 3,
   "id": "eb611364e9d87395",
   "metadata": {
    "ExecuteTime": {
     "end_time": "2023-08-29T00:46:41.164003700Z",
     "start_time": "2023-08-29T00:46:40.136786600Z"
    },
    "collapsed": false
   },
   "outputs": [],
   "source": [
    "url = \"https://restcountries.com/v3.1/all\"\n",
    "response = requests.get(url)"
   ]
  },
  {
   "cell_type": "code",
   "execution_count": 4,
   "id": "ef711559917e6453",
   "metadata": {
    "ExecuteTime": {
     "end_time": "2023-08-29T00:46:41.182973200Z",
     "start_time": "2023-08-29T00:46:41.166011200Z"
    },
    "collapsed": false
   },
   "outputs": [
    {
     "name": "stdout",
     "output_type": "stream",
     "text": [
      "count                                                  6511\n",
      "unique                                                 6510\n",
      "top       b',\"independent\":true,\"status\":\"officially-ass...\n",
      "freq                                                      2\n",
      "Name: 0, dtype: object\n"
     ]
    }
   ],
   "source": [
    "if response.status_code == 200:\n",
    "    df = pd.DataFrame(response)\n",
    "    print(df[0].describe())\n",
    "    # print(pd.DataFrame(response))\n",
    "else:\n",
    "    print(\"Falha:\", response.status_code)"
   ]
  },
  {
   "cell_type": "code",
   "execution_count": 13,
   "id": "91f91f5166be328c",
   "metadata": {
    "ExecuteTime": {
     "end_time": "2023-08-29T00:46:41.253488300Z",
     "start_time": "2023-08-29T00:46:41.184966300Z"
    },
    "collapsed": false
   },
   "outputs": [],
   "source": []
  }
 ],
 "metadata": {
  "kernelspec": {
   "display_name": "Python 3",
   "language": "python",
   "name": "python3"
  },
  "language_info": {
   "codemirror_mode": {
    "name": "ipython",
    "version": 3
   },
   "file_extension": ".py",
   "mimetype": "text/x-python",
   "name": "python",
   "nbconvert_exporter": "python",
   "pygments_lexer": "ipython3",
   "version": "3.10.8"
  }
 },
 "nbformat": 4,
 "nbformat_minor": 5
}
