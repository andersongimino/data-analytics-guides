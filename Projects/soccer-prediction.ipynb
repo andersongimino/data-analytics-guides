{
 "cells": [
  {
   "cell_type": "markdown",
   "id": "4079719ad9ebdee6",
   "metadata": {
    "collapsed": false
   },
   "source": [
    "## Import de dependências"
   ]
  },
  {
   "cell_type": "code",
   "execution_count": 1,
   "id": "initial_id",
   "metadata": {
    "ExecuteTime": {
     "end_time": "2023-08-29T00:46:40.133786300Z",
     "start_time": "2023-08-29T00:46:40.115015900Z"
    },
    "collapsed": false
   },
   "outputs": [],
   "source": [
    "import requests\n",
    "import pandas as pd"
   ]
  },
  {
   "cell_type": "markdown",
   "id": "92f19bf632ea5c46",
   "metadata": {
    "collapsed": false
   },
   "source": [
    "## Declaração de variaveis"
   ]
  },
  {
   "cell_type": "code",
   "execution_count": 2,
   "id": "eb611364e9d87395",
   "metadata": {
    "ExecuteTime": {
     "end_time": "2023-08-29T00:46:41.164003700Z",
     "start_time": "2023-08-29T00:46:40.136786600Z"
    },
    "collapsed": false
   },
   "outputs": [],
   "source": [
    "url = \"https://restcountries.com/v3.1/all\"\n",
    "response = requests.get(url)"
   ]
  },
  {
   "cell_type": "code",
   "execution_count": 5,
   "id": "ef711559917e6453",
   "metadata": {
    "ExecuteTime": {
     "end_time": "2023-08-29T00:46:41.182973200Z",
     "start_time": "2023-08-29T00:46:41.166011200Z"
    },
    "collapsed": false
   },
   "outputs": [
    {
     "name": "stdout",
     "output_type": "stream",
     "text": [
      "                                                      0\n",
      "0     b'[{\"name\":{\"common\":\"French Polynesia\",\"offic...\n",
      "1     b'mon\":\"Polyn\\xc3\\xa9sie fran\\xc3\\xa7aise\"}}},...\n",
      "2     b'igned\",\"unMember\":false,\"currencies\":{\"XPF\":...\n",
      "3     b':[\"Papeet\\xc4\\x93\"],\"altSpellings\":[\"PF\",\"Po...\n",
      "4     b'on\":\"Polynesia\",\"languages\":{\"fra\":\"French\"}...\n",
      "...                                                 ...\n",
      "6506  b'06:00\",\"UTC-05:00\"],\"continents\":[\"South Ame...\n",
      "6507  b'c.svg\",\"alt\":\"The flag of Ecuador is compose...\n",
      "6508  b'ight of the other two bands. The Ecuadorian ...\n",
      "6509  b's://mainfacts.com/media/images/coats_of_arms...\n",
      "6510  b'ek\":\"monday\",\"capitalInfo\":{\"latlng\":[-0.22,...\n",
      "\n",
      "[6511 rows x 1 columns]\n"
     ]
    }
   ],
   "source": [
    "if response.status_code == 200:\n",
    "    df = pd.DataFrame(response)\n",
    "    # print(df[0].describe())\n",
    "    print(pd.DataFrame(response))\n",
    "else:\n",
    "    print(\"Falha:\", response.status_code)"
   ]
  },
  {
   "cell_type": "code",
   "execution_count": 13,
   "id": "91f91f5166be328c",
   "metadata": {
    "ExecuteTime": {
     "end_time": "2023-08-29T00:46:41.253488300Z",
     "start_time": "2023-08-29T00:46:41.184966300Z"
    },
    "collapsed": false
   },
   "outputs": [],
   "source": []
  }
 ],
 "metadata": {
  "kernelspec": {
   "display_name": "Python 3",
   "language": "python",
   "name": "python3"
  },
  "language_info": {
   "codemirror_mode": {
    "name": "ipython",
    "version": 3
   },
   "file_extension": ".py",
   "mimetype": "text/x-python",
   "name": "python",
   "nbconvert_exporter": "python",
   "pygments_lexer": "ipython3",
   "version": "3.10.8"
  }
 },
 "nbformat": 4,
 "nbformat_minor": 5
}
