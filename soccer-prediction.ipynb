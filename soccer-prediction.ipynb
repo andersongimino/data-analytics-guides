{
 "cells": [
  {
   "cell_type": "markdown",
   "source": [
    "## Import de dependências"
   ],
   "metadata": {
    "collapsed": false
   },
   "id": "4079719ad9ebdee6"
  },
  {
   "cell_type": "code",
   "execution_count": 11,
   "outputs": [],
   "source": [
    "import requests\n",
    "import pandas as pd"
   ],
   "metadata": {
    "collapsed": false,
    "ExecuteTime": {
     "end_time": "2023-08-29T00:46:40.133786300Z",
     "start_time": "2023-08-29T00:46:40.115015900Z"
    }
   },
   "id": "initial_id"
  },
  {
   "cell_type": "markdown",
   "source": [
    "## Declaração de variaveis"
   ],
   "metadata": {
    "collapsed": false
   },
   "id": "92f19bf632ea5c46"
  },
  {
   "cell_type": "code",
   "execution_count": 12,
   "outputs": [],
   "source": [
    "url = \"https://restcountries.com/v3.1/all\"\n",
    "response = requests.get(url)"
   ],
   "metadata": {
    "collapsed": false,
    "ExecuteTime": {
     "end_time": "2023-08-29T00:46:41.164003700Z",
     "start_time": "2023-08-29T00:46:40.136786600Z"
    }
   },
   "id": "eb611364e9d87395"
  },
  {
   "cell_type": "code",
   "execution_count": 13,
   "outputs": [
    {
     "name": "stdout",
     "output_type": "stream",
     "text": [
      "count                                                  6512\n",
      "unique                                                 6511\n",
      "top       b' the edges of the field. The vertical part o...\n",
      "freq                                                      2\n",
      "Name: 0, dtype: object\n"
     ]
    }
   ],
   "source": [
    "if response.status_code == 200:\n",
    "    df = pd.DataFrame(response)\n",
    "    print(df[0].describe())\n",
    "    # print(pd.DataFrame(response))\n",
    "else:\n",
    "    print(\"Falha:\", response.status_code)"
   ],
   "metadata": {
    "collapsed": false,
    "ExecuteTime": {
     "end_time": "2023-08-29T00:46:41.182973200Z",
     "start_time": "2023-08-29T00:46:41.166011200Z"
    }
   },
   "id": "ef711559917e6453"
  },
  {
   "cell_type": "code",
   "execution_count": 13,
   "outputs": [],
   "source": [],
   "metadata": {
    "collapsed": false,
    "ExecuteTime": {
     "end_time": "2023-08-29T00:46:41.253488300Z",
     "start_time": "2023-08-29T00:46:41.184966300Z"
    }
   },
   "id": "91f91f5166be328c"
  }
 ],
 "metadata": {
  "kernelspec": {
   "display_name": "Python 3",
   "language": "python",
   "name": "python3"
  },
  "language_info": {
   "codemirror_mode": {
    "name": "ipython",
    "version": 2
   },
   "file_extension": ".py",
   "mimetype": "text/x-python",
   "name": "python",
   "nbconvert_exporter": "python",
   "pygments_lexer": "ipython2",
   "version": "2.7.6"
  }
 },
 "nbformat": 4,
 "nbformat_minor": 5
}
